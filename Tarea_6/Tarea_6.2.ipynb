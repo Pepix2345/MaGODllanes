{
 "cells": [
  {
   "cell_type": "markdown",
   "id": "371978e8-2418-4414-bb46-ce49502c2f1b",
   "metadata": {},
   "source": [
    "<img src=\"https://i.imgur.com/OSp7FVO.png\"/>\n",
    "\n",
    "# Tarea 6\n",
    "\n",
    "## Ejercicio 2"
   ]
  },
  {
   "cell_type": "code",
   "execution_count": 2,
   "id": "8e0979c8-d2f6-4874-8810-3b124779c6ed",
   "metadata": {},
   "outputs": [],
   "source": [
    "strategies=['Rock','Paper','Scissors','Lizard','Spock']"
   ]
  },
  {
   "cell_type": "code",
   "execution_count": 3,
   "id": "83d02a15-cac1-4674-a481-c0299203f6a3",
   "metadata": {},
   "outputs": [],
   "source": [
    "payoff={\n",
    "    ('Rock','Paper'):(0,1),\n",
    "    ('Paper','Rock'):(1,0),\n",
    "    ('Rock','Scissors'):(1,0),\n",
    "    ('Scissors','Rock'):(0,1),\n",
    "    ('Paper','Scissors'):(0,1),\n",
    "    ('Scissors','Paper'):(1,0),\n",
    "    ('Rock','Rock'):(0,0),\n",
    "    ('Paper','Paper'):(0,0),\n",
    "    ('Scissors','Scissors'):(0,0),\n",
    "    ('Rock','Spock'):(0,1),\n",
    "    ('Spock','Rock'):(1,0),\n",
    "    ('Spock','Scissors'):(1,0),\n",
    "    ('Scissors','Spock'):(0,1),\n",
    "    ('Spock','Spock'):(0,0),\n",
    "    ('Spock','Lizard'):(0,1),\n",
    "    ('Lizard','Spock'):(1,0),\n",
    "    ('Spock','Paper'):(0,1),\n",
    "    ('Paper','Spock'):(1,0),\n",
    "    ('Lizard','Paper'):(1,0),\n",
    "    ('Paper','Lizard'):(0,1),\n",
    "    ('Lizard','Rock'):(0,1),\n",
    "    ('Rock','Lizard'):(1,0),\n",
    "    ('Lizard','Scissors'):(0,1),\n",
    "    ('Scissors','Lizard'):(1,0),\n",
    "    ('Lizard','Lizard'):(0,0)\n",
    "}"
   ]
  },
  {
   "cell_type": "code",
   "execution_count": 4,
   "id": "17216bff-c017-41cd-a5eb-3bb4de6bf478",
   "metadata": {},
   "outputs": [],
   "source": [
    "# names of players\n",
    "names=['Jose','Hadaly','Edgar','Charles','Ariana','Paolo','Daniel','Nicolas','Majo','Sandi']"
   ]
  },
  {
   "cell_type": "code",
   "execution_count": 5,
   "id": "59d7194a-4b8b-4135-9bdb-df02fae0ba15",
   "metadata": {},
   "outputs": [],
   "source": [
    "# setting up players\n",
    "society=[{'name':n,'score':0,'strategy':None} for n in names]"
   ]
  },
  {
   "cell_type": "code",
   "execution_count": 6,
   "id": "b2cd4b16-12cf-4f7d-bc18-cb5086f3d927",
   "metadata": {},
   "outputs": [
    {
     "data": {
      "text/plain": [
       "[{'name': 'Jose', 'score': 0, 'strategy': None},\n",
       " {'name': 'Hadaly', 'score': 0, 'strategy': None},\n",
       " {'name': 'Edgar', 'score': 0, 'strategy': None},\n",
       " {'name': 'Charles', 'score': 0, 'strategy': None},\n",
       " {'name': 'Ariana', 'score': 0, 'strategy': None},\n",
       " {'name': 'Paolo', 'score': 0, 'strategy': None},\n",
       " {'name': 'Daniel', 'score': 0, 'strategy': None},\n",
       " {'name': 'Nicolas', 'score': 0, 'strategy': None},\n",
       " {'name': 'Majo', 'score': 0, 'strategy': None},\n",
       " {'name': 'Sandi', 'score': 0, 'strategy': None}]"
      ]
     },
     "execution_count": 6,
     "metadata": {},
     "output_type": "execute_result"
    }
   ],
   "source": [
    "# each player a dict:\n",
    "society"
   ]
  },
  {
   "cell_type": "code",
   "execution_count": 7,
   "id": "76eda489-7536-4424-867d-4f4a4342ae87",
   "metadata": {},
   "outputs": [
    {
     "name": "stdout",
     "output_type": "stream",
     "text": [
      "({'name': 'Jose', 'score': 0, 'strategy': None}, {'name': 'Hadaly', 'score': 0, 'strategy': None})\n",
      "({'name': 'Jose', 'score': 0, 'strategy': None}, {'name': 'Edgar', 'score': 0, 'strategy': None})\n",
      "({'name': 'Jose', 'score': 0, 'strategy': None}, {'name': 'Charles', 'score': 0, 'strategy': None})\n",
      "({'name': 'Jose', 'score': 0, 'strategy': None}, {'name': 'Ariana', 'score': 0, 'strategy': None})\n",
      "({'name': 'Jose', 'score': 0, 'strategy': None}, {'name': 'Paolo', 'score': 0, 'strategy': None})\n",
      "({'name': 'Jose', 'score': 0, 'strategy': None}, {'name': 'Daniel', 'score': 0, 'strategy': None})\n",
      "({'name': 'Jose', 'score': 0, 'strategy': None}, {'name': 'Nicolas', 'score': 0, 'strategy': None})\n",
      "({'name': 'Jose', 'score': 0, 'strategy': None}, {'name': 'Majo', 'score': 0, 'strategy': None})\n",
      "({'name': 'Jose', 'score': 0, 'strategy': None}, {'name': 'Sandi', 'score': 0, 'strategy': None})\n",
      "({'name': 'Hadaly', 'score': 0, 'strategy': None}, {'name': 'Edgar', 'score': 0, 'strategy': None})\n",
      "({'name': 'Hadaly', 'score': 0, 'strategy': None}, {'name': 'Charles', 'score': 0, 'strategy': None})\n",
      "({'name': 'Hadaly', 'score': 0, 'strategy': None}, {'name': 'Ariana', 'score': 0, 'strategy': None})\n",
      "({'name': 'Hadaly', 'score': 0, 'strategy': None}, {'name': 'Paolo', 'score': 0, 'strategy': None})\n",
      "({'name': 'Hadaly', 'score': 0, 'strategy': None}, {'name': 'Daniel', 'score': 0, 'strategy': None})\n",
      "({'name': 'Hadaly', 'score': 0, 'strategy': None}, {'name': 'Nicolas', 'score': 0, 'strategy': None})\n",
      "({'name': 'Hadaly', 'score': 0, 'strategy': None}, {'name': 'Majo', 'score': 0, 'strategy': None})\n",
      "({'name': 'Hadaly', 'score': 0, 'strategy': None}, {'name': 'Sandi', 'score': 0, 'strategy': None})\n",
      "({'name': 'Edgar', 'score': 0, 'strategy': None}, {'name': 'Charles', 'score': 0, 'strategy': None})\n",
      "({'name': 'Edgar', 'score': 0, 'strategy': None}, {'name': 'Ariana', 'score': 0, 'strategy': None})\n",
      "({'name': 'Edgar', 'score': 0, 'strategy': None}, {'name': 'Paolo', 'score': 0, 'strategy': None})\n",
      "({'name': 'Edgar', 'score': 0, 'strategy': None}, {'name': 'Daniel', 'score': 0, 'strategy': None})\n",
      "({'name': 'Edgar', 'score': 0, 'strategy': None}, {'name': 'Nicolas', 'score': 0, 'strategy': None})\n",
      "({'name': 'Edgar', 'score': 0, 'strategy': None}, {'name': 'Majo', 'score': 0, 'strategy': None})\n",
      "({'name': 'Edgar', 'score': 0, 'strategy': None}, {'name': 'Sandi', 'score': 0, 'strategy': None})\n",
      "({'name': 'Charles', 'score': 0, 'strategy': None}, {'name': 'Ariana', 'score': 0, 'strategy': None})\n",
      "({'name': 'Charles', 'score': 0, 'strategy': None}, {'name': 'Paolo', 'score': 0, 'strategy': None})\n",
      "({'name': 'Charles', 'score': 0, 'strategy': None}, {'name': 'Daniel', 'score': 0, 'strategy': None})\n",
      "({'name': 'Charles', 'score': 0, 'strategy': None}, {'name': 'Nicolas', 'score': 0, 'strategy': None})\n",
      "({'name': 'Charles', 'score': 0, 'strategy': None}, {'name': 'Majo', 'score': 0, 'strategy': None})\n",
      "({'name': 'Charles', 'score': 0, 'strategy': None}, {'name': 'Sandi', 'score': 0, 'strategy': None})\n",
      "({'name': 'Ariana', 'score': 0, 'strategy': None}, {'name': 'Paolo', 'score': 0, 'strategy': None})\n",
      "({'name': 'Ariana', 'score': 0, 'strategy': None}, {'name': 'Daniel', 'score': 0, 'strategy': None})\n",
      "({'name': 'Ariana', 'score': 0, 'strategy': None}, {'name': 'Nicolas', 'score': 0, 'strategy': None})\n",
      "({'name': 'Ariana', 'score': 0, 'strategy': None}, {'name': 'Majo', 'score': 0, 'strategy': None})\n",
      "({'name': 'Ariana', 'score': 0, 'strategy': None}, {'name': 'Sandi', 'score': 0, 'strategy': None})\n",
      "({'name': 'Paolo', 'score': 0, 'strategy': None}, {'name': 'Daniel', 'score': 0, 'strategy': None})\n",
      "({'name': 'Paolo', 'score': 0, 'strategy': None}, {'name': 'Nicolas', 'score': 0, 'strategy': None})\n",
      "({'name': 'Paolo', 'score': 0, 'strategy': None}, {'name': 'Majo', 'score': 0, 'strategy': None})\n",
      "({'name': 'Paolo', 'score': 0, 'strategy': None}, {'name': 'Sandi', 'score': 0, 'strategy': None})\n",
      "({'name': 'Daniel', 'score': 0, 'strategy': None}, {'name': 'Nicolas', 'score': 0, 'strategy': None})\n",
      "({'name': 'Daniel', 'score': 0, 'strategy': None}, {'name': 'Majo', 'score': 0, 'strategy': None})\n",
      "({'name': 'Daniel', 'score': 0, 'strategy': None}, {'name': 'Sandi', 'score': 0, 'strategy': None})\n",
      "({'name': 'Nicolas', 'score': 0, 'strategy': None}, {'name': 'Majo', 'score': 0, 'strategy': None})\n",
      "({'name': 'Nicolas', 'score': 0, 'strategy': None}, {'name': 'Sandi', 'score': 0, 'strategy': None})\n",
      "({'name': 'Majo', 'score': 0, 'strategy': None}, {'name': 'Sandi', 'score': 0, 'strategy': None})\n"
     ]
    }
   ],
   "source": [
    "import itertools\n",
    "\n",
    "# pair is a tuple of dicts\n",
    "for pair in itertools.combinations(society,2):\n",
    "    print(pair)"
   ]
  },
  {
   "cell_type": "code",
   "execution_count": 8,
   "id": "1c99a5f8-2a4c-4c91-9391-6be486215dfc",
   "metadata": {},
   "outputs": [
    {
     "name": "stdout",
     "output_type": "stream",
     "text": [
      "{'name': 'Jose', 'score': 0, 'strategy': None} {'name': 'Hadaly', 'score': 0, 'strategy': None}\n",
      "{'name': 'Jose', 'score': 0, 'strategy': None} {'name': 'Edgar', 'score': 0, 'strategy': None}\n",
      "{'name': 'Jose', 'score': 0, 'strategy': None} {'name': 'Charles', 'score': 0, 'strategy': None}\n",
      "{'name': 'Jose', 'score': 0, 'strategy': None} {'name': 'Ariana', 'score': 0, 'strategy': None}\n",
      "{'name': 'Jose', 'score': 0, 'strategy': None} {'name': 'Paolo', 'score': 0, 'strategy': None}\n",
      "{'name': 'Jose', 'score': 0, 'strategy': None} {'name': 'Daniel', 'score': 0, 'strategy': None}\n",
      "{'name': 'Jose', 'score': 0, 'strategy': None} {'name': 'Nicolas', 'score': 0, 'strategy': None}\n",
      "{'name': 'Jose', 'score': 0, 'strategy': None} {'name': 'Majo', 'score': 0, 'strategy': None}\n",
      "{'name': 'Jose', 'score': 0, 'strategy': None} {'name': 'Sandi', 'score': 0, 'strategy': None}\n",
      "{'name': 'Hadaly', 'score': 0, 'strategy': None} {'name': 'Edgar', 'score': 0, 'strategy': None}\n",
      "{'name': 'Hadaly', 'score': 0, 'strategy': None} {'name': 'Charles', 'score': 0, 'strategy': None}\n",
      "{'name': 'Hadaly', 'score': 0, 'strategy': None} {'name': 'Ariana', 'score': 0, 'strategy': None}\n",
      "{'name': 'Hadaly', 'score': 0, 'strategy': None} {'name': 'Paolo', 'score': 0, 'strategy': None}\n",
      "{'name': 'Hadaly', 'score': 0, 'strategy': None} {'name': 'Daniel', 'score': 0, 'strategy': None}\n",
      "{'name': 'Hadaly', 'score': 0, 'strategy': None} {'name': 'Nicolas', 'score': 0, 'strategy': None}\n",
      "{'name': 'Hadaly', 'score': 0, 'strategy': None} {'name': 'Majo', 'score': 0, 'strategy': None}\n",
      "{'name': 'Hadaly', 'score': 0, 'strategy': None} {'name': 'Sandi', 'score': 0, 'strategy': None}\n",
      "{'name': 'Edgar', 'score': 0, 'strategy': None} {'name': 'Charles', 'score': 0, 'strategy': None}\n",
      "{'name': 'Edgar', 'score': 0, 'strategy': None} {'name': 'Ariana', 'score': 0, 'strategy': None}\n",
      "{'name': 'Edgar', 'score': 0, 'strategy': None} {'name': 'Paolo', 'score': 0, 'strategy': None}\n",
      "{'name': 'Edgar', 'score': 0, 'strategy': None} {'name': 'Daniel', 'score': 0, 'strategy': None}\n",
      "{'name': 'Edgar', 'score': 0, 'strategy': None} {'name': 'Nicolas', 'score': 0, 'strategy': None}\n",
      "{'name': 'Edgar', 'score': 0, 'strategy': None} {'name': 'Majo', 'score': 0, 'strategy': None}\n",
      "{'name': 'Edgar', 'score': 0, 'strategy': None} {'name': 'Sandi', 'score': 0, 'strategy': None}\n",
      "{'name': 'Charles', 'score': 0, 'strategy': None} {'name': 'Ariana', 'score': 0, 'strategy': None}\n",
      "{'name': 'Charles', 'score': 0, 'strategy': None} {'name': 'Paolo', 'score': 0, 'strategy': None}\n",
      "{'name': 'Charles', 'score': 0, 'strategy': None} {'name': 'Daniel', 'score': 0, 'strategy': None}\n",
      "{'name': 'Charles', 'score': 0, 'strategy': None} {'name': 'Nicolas', 'score': 0, 'strategy': None}\n",
      "{'name': 'Charles', 'score': 0, 'strategy': None} {'name': 'Majo', 'score': 0, 'strategy': None}\n",
      "{'name': 'Charles', 'score': 0, 'strategy': None} {'name': 'Sandi', 'score': 0, 'strategy': None}\n",
      "{'name': 'Ariana', 'score': 0, 'strategy': None} {'name': 'Paolo', 'score': 0, 'strategy': None}\n",
      "{'name': 'Ariana', 'score': 0, 'strategy': None} {'name': 'Daniel', 'score': 0, 'strategy': None}\n",
      "{'name': 'Ariana', 'score': 0, 'strategy': None} {'name': 'Nicolas', 'score': 0, 'strategy': None}\n",
      "{'name': 'Ariana', 'score': 0, 'strategy': None} {'name': 'Majo', 'score': 0, 'strategy': None}\n",
      "{'name': 'Ariana', 'score': 0, 'strategy': None} {'name': 'Sandi', 'score': 0, 'strategy': None}\n",
      "{'name': 'Paolo', 'score': 0, 'strategy': None} {'name': 'Daniel', 'score': 0, 'strategy': None}\n",
      "{'name': 'Paolo', 'score': 0, 'strategy': None} {'name': 'Nicolas', 'score': 0, 'strategy': None}\n",
      "{'name': 'Paolo', 'score': 0, 'strategy': None} {'name': 'Majo', 'score': 0, 'strategy': None}\n",
      "{'name': 'Paolo', 'score': 0, 'strategy': None} {'name': 'Sandi', 'score': 0, 'strategy': None}\n",
      "{'name': 'Daniel', 'score': 0, 'strategy': None} {'name': 'Nicolas', 'score': 0, 'strategy': None}\n",
      "{'name': 'Daniel', 'score': 0, 'strategy': None} {'name': 'Majo', 'score': 0, 'strategy': None}\n",
      "{'name': 'Daniel', 'score': 0, 'strategy': None} {'name': 'Sandi', 'score': 0, 'strategy': None}\n",
      "{'name': 'Nicolas', 'score': 0, 'strategy': None} {'name': 'Majo', 'score': 0, 'strategy': None}\n",
      "{'name': 'Nicolas', 'score': 0, 'strategy': None} {'name': 'Sandi', 'score': 0, 'strategy': None}\n",
      "{'name': 'Majo', 'score': 0, 'strategy': None} {'name': 'Sandi', 'score': 0, 'strategy': None}\n"
     ]
    }
   ],
   "source": [
    "import itertools\n",
    "\n",
    "# each dict\n",
    "for player1,player2 in itertools.combinations(society,2):\n",
    "    print(player1,player2)"
   ]
  },
  {
   "cell_type": "code",
   "execution_count": 9,
   "id": "e11f6c43-cf60-4839-a813-2e733c9ed06e",
   "metadata": {},
   "outputs": [],
   "source": [
    "# resetting society\n",
    "society=[{'name':n,'score':0,'strategy':None} for n in names]\n",
    "\n",
    "from random import choice\n",
    "# several rounds\n",
    "for aRound in range(100):\n",
    "\n",
    "    # en each round:\n",
    "    for player1,player2 in itertools.combinations(society,2):\n",
    "        # each chooses strategy\n",
    "        player1['strategy']=choice(strategies)\n",
    "\n",
    "        player2['strategy']=choice(strategies)\n",
    "\n",
    "        # result from strategy chosen\n",
    "        result=payoff[player1['strategy'],player2['strategy']]\n",
    "        \n",
    "        # update scores\n",
    "        player1['score']+=result[0]\n",
    "        player2['score']+=result[1]\n"
   ]
  },
  {
   "cell_type": "code",
   "execution_count": 10,
   "id": "fba285ea-44b0-476f-a091-61ce8cb64339",
   "metadata": {},
   "outputs": [
    {
     "data": {
      "text/plain": [
       "[{'name': 'Jose', 'score': 340, 'strategy': 'Spock'},\n",
       " {'name': 'Hadaly', 'score': 357, 'strategy': 'Rock'},\n",
       " {'name': 'Edgar', 'score': 348, 'strategy': 'Lizard'},\n",
       " {'name': 'Charles', 'score': 367, 'strategy': 'Scissors'},\n",
       " {'name': 'Ariana', 'score': 378, 'strategy': 'Rock'},\n",
       " {'name': 'Paolo', 'score': 359, 'strategy': 'Lizard'},\n",
       " {'name': 'Daniel', 'score': 377, 'strategy': 'Lizard'},\n",
       " {'name': 'Nicolas', 'score': 369, 'strategy': 'Spock'},\n",
       " {'name': 'Majo', 'score': 377, 'strategy': 'Scissors'},\n",
       " {'name': 'Sandi', 'score': 339, 'strategy': 'Paper'}]"
      ]
     },
     "execution_count": 10,
     "metadata": {},
     "output_type": "execute_result"
    }
   ],
   "source": [
    "# final situation\n",
    "society"
   ]
  },
  {
   "cell_type": "code",
   "execution_count": 13,
   "id": "56b075dc-9aeb-4409-8aa9-9b6bd89faefe",
   "metadata": {},
   "outputs": [
    {
     "data": {
      "text/html": [
       "<div>\n",
       "<style scoped>\n",
       "    .dataframe tbody tr th:only-of-type {\n",
       "        vertical-align: middle;\n",
       "    }\n",
       "\n",
       "    .dataframe tbody tr th {\n",
       "        vertical-align: top;\n",
       "    }\n",
       "\n",
       "    .dataframe thead th {\n",
       "        text-align: right;\n",
       "    }\n",
       "</style>\n",
       "<table border=\"1\" class=\"dataframe\">\n",
       "  <thead>\n",
       "    <tr style=\"text-align: right;\">\n",
       "      <th></th>\n",
       "      <th>name</th>\n",
       "      <th>score</th>\n",
       "      <th>strategy</th>\n",
       "    </tr>\n",
       "  </thead>\n",
       "  <tbody>\n",
       "    <tr>\n",
       "      <th>0</th>\n",
       "      <td>Jose</td>\n",
       "      <td>340</td>\n",
       "      <td>Spock</td>\n",
       "    </tr>\n",
       "    <tr>\n",
       "      <th>1</th>\n",
       "      <td>Hadaly</td>\n",
       "      <td>357</td>\n",
       "      <td>Rock</td>\n",
       "    </tr>\n",
       "    <tr>\n",
       "      <th>2</th>\n",
       "      <td>Edgar</td>\n",
       "      <td>348</td>\n",
       "      <td>Lizard</td>\n",
       "    </tr>\n",
       "    <tr>\n",
       "      <th>3</th>\n",
       "      <td>Charles</td>\n",
       "      <td>367</td>\n",
       "      <td>Scissors</td>\n",
       "    </tr>\n",
       "    <tr>\n",
       "      <th>4</th>\n",
       "      <td>Ariana</td>\n",
       "      <td>378</td>\n",
       "      <td>Rock</td>\n",
       "    </tr>\n",
       "    <tr>\n",
       "      <th>5</th>\n",
       "      <td>Paolo</td>\n",
       "      <td>359</td>\n",
       "      <td>Lizard</td>\n",
       "    </tr>\n",
       "    <tr>\n",
       "      <th>6</th>\n",
       "      <td>Daniel</td>\n",
       "      <td>377</td>\n",
       "      <td>Lizard</td>\n",
       "    </tr>\n",
       "    <tr>\n",
       "      <th>7</th>\n",
       "      <td>Nicolas</td>\n",
       "      <td>369</td>\n",
       "      <td>Spock</td>\n",
       "    </tr>\n",
       "    <tr>\n",
       "      <th>8</th>\n",
       "      <td>Majo</td>\n",
       "      <td>377</td>\n",
       "      <td>Scissors</td>\n",
       "    </tr>\n",
       "    <tr>\n",
       "      <th>9</th>\n",
       "      <td>Sandi</td>\n",
       "      <td>339</td>\n",
       "      <td>Paper</td>\n",
       "    </tr>\n",
       "  </tbody>\n",
       "</table>\n",
       "</div>"
      ],
      "text/plain": [
       "      name  score  strategy\n",
       "0     Jose    340     Spock\n",
       "1   Hadaly    357      Rock\n",
       "2    Edgar    348    Lizard\n",
       "3  Charles    367  Scissors\n",
       "4   Ariana    378      Rock\n",
       "5    Paolo    359    Lizard\n",
       "6   Daniel    377    Lizard\n",
       "7  Nicolas    369     Spock\n",
       "8     Majo    377  Scissors\n",
       "9    Sandi    339     Paper"
      ]
     },
     "execution_count": 13,
     "metadata": {},
     "output_type": "execute_result"
    }
   ],
   "source": [
    "import pandas as pd\n",
    "\n",
    "# as a data frame\n",
    "socialResults=pd.DataFrame(society)\n",
    "socialResults"
   ]
  },
  {
   "cell_type": "code",
   "execution_count": 14,
   "id": "bd948106-d954-48f5-949d-c0890bca5450",
   "metadata": {},
   "outputs": [
    {
     "data": {
      "text/html": [
       "<div>\n",
       "<style scoped>\n",
       "    .dataframe tbody tr th:only-of-type {\n",
       "        vertical-align: middle;\n",
       "    }\n",
       "\n",
       "    .dataframe tbody tr th {\n",
       "        vertical-align: top;\n",
       "    }\n",
       "\n",
       "    .dataframe thead th {\n",
       "        text-align: right;\n",
       "    }\n",
       "</style>\n",
       "<table border=\"1\" class=\"dataframe\">\n",
       "  <thead>\n",
       "    <tr style=\"text-align: right;\">\n",
       "      <th></th>\n",
       "      <th>name</th>\n",
       "      <th>score</th>\n",
       "      <th>strategy</th>\n",
       "    </tr>\n",
       "  </thead>\n",
       "  <tbody>\n",
       "    <tr>\n",
       "      <th>4</th>\n",
       "      <td>Ariana</td>\n",
       "      <td>378</td>\n",
       "      <td>Rock</td>\n",
       "    </tr>\n",
       "  </tbody>\n",
       "</table>\n",
       "</div>"
      ],
      "text/plain": [
       "     name  score strategy\n",
       "4  Ariana    378     Rock"
      ]
     },
     "execution_count": 14,
     "metadata": {},
     "output_type": "execute_result"
    }
   ],
   "source": [
    "winnerScore=socialResults.score.max()\n",
    "\n",
    "#social outcome\n",
    "socialResults[socialResults.score==winnerScore]"
   ]
  }
 ],
 "metadata": {
  "kernelspec": {
   "display_name": "Python 3 (ipykernel)",
   "language": "python",
   "name": "python3"
  },
  "language_info": {
   "codemirror_mode": {
    "name": "ipython",
    "version": 3
   },
   "file_extension": ".py",
   "mimetype": "text/x-python",
   "name": "python",
   "nbconvert_exporter": "python",
   "pygments_lexer": "ipython3",
   "version": "3.11.7"
  }
 },
 "nbformat": 4,
 "nbformat_minor": 5
}
