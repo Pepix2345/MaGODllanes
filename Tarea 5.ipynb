{
 "cells": [
  {
   "cell_type": "markdown",
   "id": "bf472169-6e43-457a-9f03-5d2ba114f047",
   "metadata": {},
   "source": [
    "<img src=\"https://i.imgur.com/OSp7FVO.png\"/>\n",
    "\n",
    "# TAREA 5\n",
    "- Ejercicio 1"
   ]
  },
  {
   "cell_type": "code",
   "execution_count": null,
   "id": "22c06b8e-a1a2-4562-987d-6d97499a0335",
   "metadata": {},
   "outputs": [],
   "source": [
    "import pulp as pp\n",
    "\n",
    "# Define the problem\n",
    "model = pp.LpProblem(name=\"supplement-problem\", sense=pp.LpMinimize)"
   ]
  },
  {
   "cell_type": "code",
   "execution_count": null,
   "id": "2d3be911-a7f3-4716-8952-a3aec6b451d1",
   "metadata": {},
   "outputs": [],
   "source": [
    "# Define the variables\n",
    "VegaVita = pp.LpVariable(name=\"VegaVita\", lowBound=0, cat='Integer')\n",
    "HappyHealth = pp.LpVariable(name=\"HappyHealth\", lowBound=0, cat='Integer')"
   ]
  },
  {
   "cell_type": "code",
   "execution_count": null,
   "id": "50cdfeb9-8a2d-490e-be77-7f1be67d4bc0",
   "metadata": {},
   "outputs": [],
   "source": [
    "# Define the objective function (minimize cost)\n",
    "cost_VegaVita = 0.20\n",
    "cost_HappyHealth = 0.30\n",
    "obj_func = cost_VegaVita * VegaVita + cost_HappyHealth * HappyHealth\n",
    "model += obj_func"
   ]
  },
  {
   "cell_type": "code",
   "execution_count": null,
   "id": "fcb7a37e-645b-4d32-b339-d5beeb06f4d9",
   "metadata": {},
   "outputs": [],
   "source": [
    "# Define the constraints\n",
    "vitC_req = 60\n",
    "calcium_req = 1000\n",
    "iron_req = 18\n",
    "niacin_req = 20\n",
    "magnesium_req = 360\n",
    "\n",
    "vitC_VegaVita = 20\n",
    "calcium_VegaVita = 500\n",
    "iron_VegaVita = 9\n",
    "niacin_VegaVita = 2\n",
    "magnesium_VegaVita = 60\n",
    "\n",
    "vitC_HappyHealth = 30\n",
    "calcium_HappyHealth = 250\n",
    "iron_HappyHealth = 2\n",
    "niacin_HappyHealth = 10\n",
    "magnesium_HappyHealth = 90"
   ]
  },
  {
   "cell_type": "code",
   "execution_count": null,
   "id": "8d425e6a-4fb8-4211-b256-be9a12d1ea8d",
   "metadata": {},
   "outputs": [],
   "source": [
    "# Vitamin C constraint\n",
    "C1 = pp.LpConstraint(name='Vitamin C Constraint',\n",
    "                     e=vitC_VegaVita*VegaVita + vitC_HappyHealth*HappyHealth,\n",
    "                     rhs=vitC_req,\n",
    "                     sense=pp.LpConstraintGE)\n",
    "\n",
    "# Calcium constraint\n",
    "C2 = pp.LpConstraint(name='Calcium Constraint',\n",
    "                     e=calcium_VegaVita*VegaVita + calcium_HappyHealth*HappyHealth,\n",
    "                     rhs=calcium_req,\n",
    "                     sense=pp.LpConstraintGE)\n",
    "\n",
    "# Iron constraint\n",
    "C3 = pp.LpConstraint(name='Iron Constraint',\n",
    "                     e=iron_VegaVita*VegaVita + iron_HappyHealth*HappyHealth,\n",
    "                     rhs=iron_req,\n",
    "                     sense=pp.LpConstraintGE)\n",
    "\n",
    "# Niacin constraint\n",
    "C4 = pp.LpConstraint(name='Niacin Constraint',\n",
    "                     e=niacin_VegaVita*VegaVita + niacin_HappyHealth*HappyHealth,\n",
    "                     rhs=niacin_req,\n",
    "                     sense=pp.LpConstraintGE)\n",
    "\n",
    "# Magnesium constraint\n",
    "C5 = pp.LpConstraint(name='Magnesium Constraint',\n",
    "                     e=magnesium_VegaVita*VegaVita + magnesium_HappyHealth*HappyHealth,\n",
    "                     rhs=magnesium_req,\n",
    "                     sense=pp.LpConstraintGE)"
   ]
  },
  {
   "cell_type": "code",
   "execution_count": null,
   "id": "7bc88ea0-a2c2-4625-bb6c-d21717f2aca6",
   "metadata": {},
   "outputs": [],
   "source": [
    "# Add constraints to the model\n",
    "model += C1\n",
    "model += C2\n",
    "model += C3\n",
    "model += C4\n",
    "model += C5"
   ]
  },
  {
   "cell_type": "code",
   "execution_count": null,
   "id": "7a9d6366-7b79-4157-b5ea-6f2d7a159a1e",
   "metadata": {},
   "outputs": [],
   "source": [
    "# Solve the problem\n",
    "solver = pp.COIN_CMD(msg=False)\n",
    "model.solve(solver)"
   ]
  },
  {
   "cell_type": "code",
   "execution_count": null,
   "id": "fae8dee1-b97e-41c4-a6e9-9c0ef1f1067e",
   "metadata": {},
   "outputs": [],
   "source": [
    "# Print the results\n",
    "Results = {\"Model Status\": pp.LpStatus[model.status]}\n",
    "Results.update({\"Optimal Solution\": pp.value(model.objective)})\n",
    "Results.update({v.name: v.varValue for v in model.variables()})\n",
    "print(Results)"
   ]
  }
 ],
 "metadata": {
  "kernelspec": {
   "display_name": "Python 3 (ipykernel)",
   "language": "python",
   "name": "python3"
  },
  "language_info": {
   "codemirror_mode": {
    "name": "ipython",
    "version": 3
   },
   "file_extension": ".py",
   "mimetype": "text/x-python",
   "name": "python",
   "nbconvert_exporter": "python",
   "pygments_lexer": "ipython3",
   "version": "3.11.7"
  }
 },
 "nbformat": 4,
 "nbformat_minor": 5
}
