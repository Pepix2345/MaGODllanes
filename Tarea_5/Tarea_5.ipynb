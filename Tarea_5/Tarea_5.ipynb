{
 "cells": [
  {
   "cell_type": "markdown",
   "id": "bf472169-6e43-457a-9f03-5d2ba114f047",
   "metadata": {},
   "source": [
    "<img src=\"https://i.imgur.com/OSp7FVO.png\"/>\n",
    "\n",
    "# TAREA 5\n",
    "- Ejercicio 1"
   ]
  },
  {
   "cell_type": "code",
   "execution_count": 10,
   "id": "22c06b8e-a1a2-4562-987d-6d97499a0335",
   "metadata": {},
   "outputs": [],
   "source": [
    "import pulp as pp\n",
    "\n",
    "# Se define el problema, en este caso es una minimización\n",
    "model = pp.LpProblem(name=\"supplement-problem\", sense=pp.LpMinimize)"
   ]
  },
  {
   "cell_type": "code",
   "execution_count": 11,
   "id": "2d3be911-a7f3-4716-8952-a3aec6b451d1",
   "metadata": {},
   "outputs": [],
   "source": [
    "# Define las variables\n",
    "VegaVita = pp.LpVariable(name=\"VegaVita\", lowBound=0, cat='Integer')\n",
    "HappyHealth = pp.LpVariable(name=\"HappyHealth\", lowBound=0, cat='Integer')"
   ]
  },
  {
   "cell_type": "code",
   "execution_count": 12,
   "id": "50cdfeb9-8a2d-490e-be77-7f1be67d4bc0",
   "metadata": {},
   "outputs": [],
   "source": [
    "# Define la función objetiva (minimize cost)\n",
    "cost_VegaVita = 0.20\n",
    "cost_HappyHealth = 0.30\n",
    "obj_func = cost_VegaVita * VegaVita + cost_HappyHealth * HappyHealth\n",
    "model += obj_func"
   ]
  },
  {
   "cell_type": "code",
   "execution_count": 13,
   "id": "fcb7a37e-645b-4d32-b339-d5beeb06f4d9",
   "metadata": {},
   "outputs": [],
   "source": [
    "# Define las condiciones\n",
    "vitC_req = 60\n",
    "calcium_req = 1000\n",
    "iron_req = 18\n",
    "niacin_req = 20\n",
    "magnesium_req = 360\n",
    "\n",
    "vitC_VegaVita = 20\n",
    "calcium_VegaVita = 500\n",
    "iron_VegaVita = 9\n",
    "niacin_VegaVita = 2\n",
    "magnesium_VegaVita = 60\n",
    "\n",
    "vitC_HappyHealth = 30\n",
    "calcium_HappyHealth = 250\n",
    "iron_HappyHealth = 2\n",
    "niacin_HappyHealth = 10\n",
    "magnesium_HappyHealth = 90"
   ]
  },
  {
   "cell_type": "code",
   "execution_count": 14,
   "id": "8d425e6a-4fb8-4211-b256-be9a12d1ea8d",
   "metadata": {},
   "outputs": [],
   "source": [
    "# Requerimiento de vitamina C\n",
    "C1 = pp.LpConstraint(name='Vitamin C Constraint',\n",
    "                     e=vitC_VegaVita*VegaVita + vitC_HappyHealth*HappyHealth,\n",
    "                     rhs=vitC_req,\n",
    "                     sense=pp.LpConstraintGE)\n",
    "\n",
    "# Requerimiento de calcio\n",
    "C2 = pp.LpConstraint(name='Calcium Constraint',\n",
    "                     e=calcium_VegaVita*VegaVita + calcium_HappyHealth*HappyHealth,\n",
    "                     rhs=calcium_req,\n",
    "                     sense=pp.LpConstraintGE)\n",
    "\n",
    "# Requerimiento de hierro\n",
    "C3 = pp.LpConstraint(name='Iron Constraint',\n",
    "                     e=iron_VegaVita*VegaVita + iron_HappyHealth*HappyHealth,\n",
    "                     rhs=iron_req,\n",
    "                     sense=pp.LpConstraintGE)\n",
    "\n",
    "# Requerimiento de niacin\n",
    "C4 = pp.LpConstraint(name='Niacin Constraint',\n",
    "                     e=niacin_VegaVita*VegaVita + niacin_HappyHealth*HappyHealth,\n",
    "                     rhs=niacin_req,\n",
    "                     sense=pp.LpConstraintGE)\n",
    "\n",
    "# Requerimiento de magnesio\n",
    "C5 = pp.LpConstraint(name='Magnesium Constraint',\n",
    "                     e=magnesium_VegaVita*VegaVita + magnesium_HappyHealth*HappyHealth,\n",
    "                     rhs=magnesium_req,\n",
    "                     sense=pp.LpConstraintGE)"
   ]
  },
  {
   "cell_type": "code",
   "execution_count": 15,
   "id": "7bc88ea0-a2c2-4625-bb6c-d21717f2aca6",
   "metadata": {},
   "outputs": [],
   "source": [
    "# Se añaden estos al modelo\n",
    "model += C1\n",
    "model += C2\n",
    "model += C3\n",
    "model += C4\n",
    "model += C5"
   ]
  },
  {
   "cell_type": "code",
   "execution_count": 16,
   "id": "7a9d6366-7b79-4157-b5ea-6f2d7a159a1e",
   "metadata": {},
   "outputs": [
    {
     "data": {
      "text/plain": [
       "1"
      ]
     },
     "execution_count": 16,
     "metadata": {},
     "output_type": "execute_result"
    }
   ],
   "source": [
    "# Se resuelve el problema\n",
    "solver = pp.COIN_CMD(msg=False)\n",
    "model.solve(solver)"
   ]
  },
  {
   "cell_type": "code",
   "execution_count": 17,
   "id": "fae8dee1-b97e-41c4-a6e9-9c0ef1f1067e",
   "metadata": {},
   "outputs": [
    {
     "name": "stdout",
     "output_type": "stream",
     "text": [
      "{'Model Status': 'Optimal', 'Optimal Solution': 1.2000000000000002, 'HappyHealth': 2.0, 'VegaVita': 3.0}\n"
     ]
    }
   ],
   "source": [
    "# Resultados:\n",
    "Results = {\"Model Status\": pp.LpStatus[model.status]}\n",
    "Results.update({\"Optimal Solution\": pp.value(model.objective)})\n",
    "Results.update({v.name: v.varValue for v in model.variables()})\n",
    "print(Results)"
   ]
  },
  {
   "cell_type": "code",
   "execution_count": 21,
   "id": "4679136b-9e93-4fe9-8e8b-31e16fbc3a8c",
   "metadata": {},
   "outputs": [
    {
     "name": "stdout",
     "output_type": "stream",
     "text": [
      "+---------------+-------------------+\n",
      "| Suplementos   |   Cantidad Óptima |\n",
      "+===============+===================+\n",
      "| HappyHealth   |                 2 |\n",
      "+---------------+-------------------+\n",
      "| VegaVita      |                 3 |\n",
      "+---------------+-------------------+\n"
     ]
    }
   ],
   "source": [
    "from tabulate import tabulate\n",
    "\n",
    "table_data = []\n",
    "for v in model.variables():\n",
    "    table_data.append((v.name, v.varValue))\n",
    "\n",
    "\n",
    "print(tabulate(table_data, headers=[\"Suplementos\", \"Cantidad Óptima\"], tablefmt=\"grid\"))"
   ]
  },
  {
   "cell_type": "markdown",
   "id": "f6bf3edb-635d-4617-bc97-fbde9ec1ff04",
   "metadata": {},
   "source": [
    "- Ejercicio 2"
   ]
  },
  {
   "cell_type": "code",
   "execution_count": 1,
   "id": "dfc017a8-6df8-45d1-b877-ba27551e1db1",
   "metadata": {},
   "outputs": [],
   "source": [
    "# calling the function\n",
    "from ahp.ahp import AHP"
   ]
  },
  {
   "cell_type": "markdown",
   "id": "4fa9c2e4-7c71-4128-80b0-bc4351215661",
   "metadata": {},
   "source": [
    "Se importan las pairwise comparisons:"
   ]
  },
  {
   "cell_type": "code",
   "execution_count": 2,
   "id": "bf31fe19-8158-4bf7-b30b-b07478ee1ec6",
   "metadata": {},
   "outputs": [],
   "source": [
    "import pandas as pd\n",
    "\n",
    "pairwise_costliving=pd.read_excel(\"ahp_masters.xlsx\",sheet_name='costliving', index_col=0)\n",
    "pairwise_academics=pd.read_excel(\"ahp_masters.xlsx\",sheet_name='academics', index_col=0)\n",
    "pairwise_jobopport=pd.read_excel(\"ahp_masters.xlsx\",sheet_name='jobopport', index_col=0)\n",
    "pairwise_language=pd.read_excel(\"ahp_masters.xlsx\",sheet_name='language', index_col=0)\n",
    "pairwise_criteria=pd.read_excel(\"ahp_masters.xlsx\",sheet_name='criteria', index_col=0)"
   ]
  },
  {
   "cell_type": "markdown",
   "id": "da30f39d-7f04-4334-be16-45c757ff16bb",
   "metadata": {},
   "source": [
    "Se observa el orden de las columnas:"
   ]
  },
  {
   "cell_type": "code",
   "execution_count": 3,
   "id": "28e355f5-7072-466a-b18d-67c38c7ca010",
   "metadata": {},
   "outputs": [
    {
     "data": {
      "text/html": [
       "<div>\n",
       "<style scoped>\n",
       "    .dataframe tbody tr th:only-of-type {\n",
       "        vertical-align: middle;\n",
       "    }\n",
       "\n",
       "    .dataframe tbody tr th {\n",
       "        vertical-align: top;\n",
       "    }\n",
       "\n",
       "    .dataframe thead th {\n",
       "        text-align: right;\n",
       "    }\n",
       "</style>\n",
       "<table border=\"1\" class=\"dataframe\">\n",
       "  <thead>\n",
       "    <tr style=\"text-align: right;\">\n",
       "      <th></th>\n",
       "      <th>costliving</th>\n",
       "      <th>academics</th>\n",
       "      <th>jobopport</th>\n",
       "      <th>language</th>\n",
       "    </tr>\n",
       "  </thead>\n",
       "  <tbody>\n",
       "    <tr>\n",
       "      <th>costliving</th>\n",
       "      <td>1.000000</td>\n",
       "      <td>2.000000</td>\n",
       "      <td>4.000000</td>\n",
       "      <td>6</td>\n",
       "    </tr>\n",
       "    <tr>\n",
       "      <th>academics</th>\n",
       "      <td>0.500000</td>\n",
       "      <td>1.000000</td>\n",
       "      <td>3.000000</td>\n",
       "      <td>4</td>\n",
       "    </tr>\n",
       "    <tr>\n",
       "      <th>jobopport</th>\n",
       "      <td>0.250000</td>\n",
       "      <td>0.333333</td>\n",
       "      <td>1.000000</td>\n",
       "      <td>3</td>\n",
       "    </tr>\n",
       "    <tr>\n",
       "      <th>language</th>\n",
       "      <td>0.166667</td>\n",
       "      <td>0.250000</td>\n",
       "      <td>0.333333</td>\n",
       "      <td>1</td>\n",
       "    </tr>\n",
       "  </tbody>\n",
       "</table>\n",
       "</div>"
      ],
      "text/plain": [
       "            costliving  academics  jobopport  language\n",
       "costliving    1.000000   2.000000   4.000000         6\n",
       "academics     0.500000   1.000000   3.000000         4\n",
       "jobopport     0.250000   0.333333   1.000000         3\n",
       "language      0.166667   0.250000   0.333333         1"
      ]
     },
     "execution_count": 3,
     "metadata": {},
     "output_type": "execute_result"
    }
   ],
   "source": [
    "pairwise_criteria"
   ]
  },
  {
   "cell_type": "code",
   "execution_count": 4,
   "id": "fd9c2997-2555-43df-8c82-aaa591318953",
   "metadata": {},
   "outputs": [],
   "source": [
    "# Se sigue el mismo orden que en el criterio\n",
    "data = [pairwise_costliving.values.tolist(),\n",
    "        pairwise_academics.values.tolist(),\n",
    "        pairwise_jobopport.values.tolist(),\n",
    "        pairwise_language.values.tolist(),\n",
    "        pairwise_criteria.values.tolist()]"
   ]
  },
  {
   "cell_type": "markdown",
   "id": "297d9a35-561e-4844-ab6a-9f7d582dbbaf",
   "metadata": {},
   "source": [
    "Implementación del modelo AHP:"
   ]
  },
  {
   "cell_type": "code",
   "execution_count": 5,
   "id": "e7781335-db3d-48e1-925b-ad24fbcaca0f",
   "metadata": {},
   "outputs": [],
   "source": [
    "ahp = AHP()\n",
    "ahp.fit(data)"
   ]
  },
  {
   "cell_type": "markdown",
   "id": "d3a4ac6c-09ee-4724-aacf-8f9498c0268c",
   "metadata": {},
   "source": [
    "Se obtiene la mejor opción:"
   ]
  },
  {
   "cell_type": "code",
   "execution_count": 7,
   "id": "e8d1cfc0-e428-4424-9e24-2ad0c30a8eb0",
   "metadata": {},
   "outputs": [
    {
     "data": {
      "text/html": [
       "<div>\n",
       "<style scoped>\n",
       "    .dataframe tbody tr th:only-of-type {\n",
       "        vertical-align: middle;\n",
       "    }\n",
       "\n",
       "    .dataframe tbody tr th {\n",
       "        vertical-align: top;\n",
       "    }\n",
       "\n",
       "    .dataframe thead th {\n",
       "        text-align: right;\n",
       "    }\n",
       "</style>\n",
       "<table border=\"1\" class=\"dataframe\">\n",
       "  <thead>\n",
       "    <tr style=\"text-align: right;\">\n",
       "      <th></th>\n",
       "      <th>Score</th>\n",
       "      <th>Ranking</th>\n",
       "    </tr>\n",
       "  </thead>\n",
       "  <tbody>\n",
       "    <tr>\n",
       "      <th>Brazil</th>\n",
       "      <td>0.330573</td>\n",
       "      <td>1.0</td>\n",
       "    </tr>\n",
       "    <tr>\n",
       "      <th>USA</th>\n",
       "      <td>0.242286</td>\n",
       "      <td>2.0</td>\n",
       "    </tr>\n",
       "    <tr>\n",
       "      <th>France</th>\n",
       "      <td>0.138482</td>\n",
       "      <td>5.0</td>\n",
       "    </tr>\n",
       "    <tr>\n",
       "      <th>England</th>\n",
       "      <td>0.145873</td>\n",
       "      <td>3.0</td>\n",
       "    </tr>\n",
       "    <tr>\n",
       "      <th>Germany</th>\n",
       "      <td>0.142786</td>\n",
       "      <td>4.0</td>\n",
       "    </tr>\n",
       "  </tbody>\n",
       "</table>\n",
       "</div>"
      ],
      "text/plain": [
       "            Score  Ranking\n",
       "Brazil   0.330573      1.0\n",
       "USA      0.242286      2.0\n",
       "France   0.138482      5.0\n",
       "England  0.145873      3.0\n",
       "Germany  0.142786      4.0"
      ]
     },
     "execution_count": 7,
     "metadata": {},
     "output_type": "execute_result"
    }
   ],
   "source": [
    "Solution=pd.DataFrame(index=pairwise_jobopport.index)\n",
    "Solution['Score']=ahp.classificate()\n",
    "Solution['Ranking']=Solution.Score.rank(ascending=False)\n",
    "Solution"
   ]
  },
  {
   "cell_type": "markdown",
   "id": "2c15b3f1-fb7f-4764-978e-a98d80a66f9a",
   "metadata": {},
   "source": [
    "Nos vamos con las garotinhas profe"
   ]
  }
 ],
 "metadata": {
  "kernelspec": {
   "display_name": "Python 3 (ipykernel)",
   "language": "python",
   "name": "python3"
  },
  "language_info": {
   "codemirror_mode": {
    "name": "ipython",
    "version": 3
   },
   "file_extension": ".py",
   "mimetype": "text/x-python",
   "name": "python",
   "nbconvert_exporter": "python",
   "pygments_lexer": "ipython3",
   "version": "3.11.7"
  }
 },
 "nbformat": 4,
 "nbformat_minor": 5
}
